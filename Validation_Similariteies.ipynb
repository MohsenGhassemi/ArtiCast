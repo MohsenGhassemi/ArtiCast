{
 "cells": [
  {
   "cell_type": "code",
   "execution_count": 100,
   "metadata": {},
   "outputs": [],
   "source": [
    "#Importing required modules\n",
    "import numpy as np\n",
    "import pandas as pd\n",
    "import pickle\n",
    "import time\n",
    "import scipy\n",
    "import sklearn\n",
    "\n",
    "import feedparser as fp\n",
    "import html\n",
    "from nltk.tokenize import TreebankWordTokenizer,WhitespaceTokenizer,word_tokenize\n",
    "from gensim.summarization import keywords\n",
    "import string\n",
    "from nltk.stem import WordNetLemmatizer\n",
    "from nltk.corpus import stopwords\n",
    "import re\n",
    "from langdetect import detect\n",
    "from website.code_bin import Cleaner\n",
    "from bs4 import BeautifulSoup\n",
    "from nltk.corpus import stopwords\n",
    "from multiprocessing import Pool\n",
    "import string\n",
    "from newspaper import Article\n",
    "\n",
    "## Models\n",
    "from gensim.models.doc2vec import Doc2Vec, TaggedDocument\n",
    "from sklearn.model_selection import train_test_split\n",
    "from sentence_transformers import SentenceTransformer\n",
    "\n",
    "\n",
    "# Plotting\n",
    "import matplotlib.pyplot as plt"
   ]
  },
  {
   "cell_type": "markdown",
   "metadata": {},
   "source": [
    "# Comparing the performance of the models"
   ]
  },
  {
   "cell_type": "markdown",
   "metadata": {},
   "source": [
    "We compare the models in terms of how similar the true pairs are compared to random (average score). We choose a random subset of 10,000 episode descriptions and compare how different models rank the related podcasts. We repeat the experiment many times. further, we find out how the best performing model ranks the related podcast when compared to all podcast episodes."
   ]
  },
  {
   "cell_type": "code",
   "execution_count": 5,
   "metadata": {},
   "outputs": [],
   "source": [
    "'''Create a list of hand-picked pairs of related articles and podcast episodes (most podcasts are from \n",
    "the Daily podcaast and a few NPR podcasts.)'''\n",
    "\n",
    "article_urls=['https://news.wbfo.org/post/dark-towers-exposes-chaos-and-corruption-bank-holds-trumps-secrets',\n",
    "             'https://www.wired.com/insights/2013/11/open-source-a-platform-for-innovation/',\n",
    "             'https://medium.com/datadriveninvestor/preparing-our-children-for-the-future-a-futurists-education-system-a658b3dc83b9',\n",
    "             'https://cchange.no/2016/11/the-transformative-role-of-art/',\n",
    "             'https://www.cnbc.com/2019/12/10/house-democrats-announce-articles-of-impeachment-against-trump.html',\n",
    "             'https://www.usatoday.com/in-depth/news/nation/2019/12/24/climate-change-how-man-can-save-planet-earth/2614939001/',\n",
    "             'https://www.nytimes.com/2019/12/09/world/asia/afghanistan-war-documents.html',\n",
    "             'https://www.nytimes.com/2019/11/08/us/hospitals-lawsuits-medical-debt.html',\n",
    "             'https://www.cbsnews.com/news/syria-withdrawal-lindsey-graham-blasts-us-withdrawing-troops-northern-syria-posts-2019-10-07/',\n",
    "             'https://heleo.com/annie-murphy-paul-many-people-fear-math-overcome/8385/',\n",
    "             'https://observer.com/2019/11/softbank-ceo-masayoshi-son-wework-investments/',\n",
    "             'https://time.com/5159852/the-surprising-secrets-to-living-longer-and-better/',\n",
    "             'https://www.gatorcountry.com/swampgas/threads/new-documents-show-how-iran-has-embedded-itself-in-the-politics-of-its-neighbor-iraq-%E2%80%94.463701/',\n",
    "             'https://www.scientificamerican.com/article/what-s-your-real-motive-for-being-altruistic/',\n",
    "             'https://www.weforum.org/agenda/2015/12/how-is-big-data-going-to-change-the-world/',\n",
    "             'https://www.cnn.com/2019/12/06/middleeast/iran-un-protest-deaths-intl/index.html',\n",
    "              'https://www.nytimes.com/1992/08/23/business/all-about-currency-printers-the-companies-that-make-money-from-making-money.html',\n",
    "              'https://www.forbes.com/sites/annapowers/2018/04/30/failing-your-way-to-success-why-failure-is-a-crucial-ingredient-for-success/#13ca02896170',\n",
    "              'https://www.thebalance.com/what-negative-interest-rates-mean-for-investors-1978886',\n",
    "              'https://www.pbs.org/newshour/show/trump-betrayed-us-fleeing-kurds-condemn-u-s-decision-to-leave-syria',\n",
    "              'https://www.quora.com/Is-hatred-a-learned-or-innate-emotion',\n",
    "              'https://www.strategy-business.com/article/What-Happened-after-India-Eliminated-Cash?gko=1fea8',\n",
    "              'https://www.pbs.org/newshour/science/9-ways-racism-impacts-maternal-health']"
   ]
  },
  {
   "cell_type": "code",
   "execution_count": 6,
   "metadata": {},
   "outputs": [],
   "source": [
    "episode_urls=['https://podcasts.apple.com/us/podcast/chaos-corruption-trumps-secrets-at-deutsche-bank/id214089682?i=1000466111627',\n",
    "             'https://podcasts.apple.com/us/podcast/open-source-world/id523121474?i=1000456868976',\n",
    "             'https://podcasts.apple.com/us/podcast/teaching-for-better-humans/id523121474?i=1000450447574',\n",
    "             'https://podcasts.apple.com/us/podcast/how-art-changes-us/id523121474?i=1000449599727',\n",
    "             'https://podcasts.apple.com/us/podcast/democrats-reveal-articles-impeachment-against-president/id1057255460?i=1000459241991',\n",
    "             'https://podcasts.apple.com/us/podcast/climate-crisis/id523121474?i=1000440827153',\n",
    "             'https://podcasts.apple.com/us/podcast/a-secret-history-of-the-war-in-afghanistan/id1200361736?i=1000459736917',\n",
    "             'https://podcasts.apple.com/us/podcast/why-so-many-hospitals-are-suing-their-patients/id1200361736?i=1000458416722',\n",
    "             'https://podcasts.apple.com/us/podcast/the-story-of-a-kurdish-general/id1200361736?i=1000453427344',\n",
    "             'https://podcasts.apple.com/us/podcast/dont-fear-math/id523121474?i=1000431804260',\n",
    "             'https://podcasts.apple.com/us/podcast/943-unicorn-cowboy/id290783428?i=1000452356743',\n",
    "             'https://podcasts.apple.com/us/podcast/the-fountain-of-youth/id523121474?i=1000411150716',\n",
    "             'https://podcasts.apple.com/us/podcast/irans-secret-influence-on-iraq/id214089682?i=1000462825992',\n",
    "             'https://podcasts.apple.com/us/podcast/wired-for-altruism/id523121474?i=1000428430804',\n",
    "             'https://podcasts.apple.com/us/podcast/big-data-revolution/id523121474?i=1000375100940',\n",
    "             'https://podcasts.apple.com/us/podcast/a-deadly-crackdown-in-iran/id1200361736?i=1000458531559',\n",
    "             'https://podcasts.apple.com/us/podcast/371-where-dollar-bills-come-from/id290783428?i=1000448611847',\n",
    "             'https://podcasts.apple.com/us/podcast/failure-is-an-option/id523121474?i=1000435383251',\n",
    "             'https://podcasts.apple.com/us/podcast/940-interest-rates-why-so-negative/id290783428?i=1000450549742',\n",
    "             'https://podcasts.apple.com/us/podcast/is-the-u-s-betraying-its-kurdish-allies/id1200361736?i=1000452754479',\n",
    "             'https://podcasts.apple.com/us/podcast/why-we-hate/id523121474?i=1000415743915',\n",
    "             'https://podcasts.apple.com/us/podcast/770-when-indias-cash-disappeared/id290783428?i=1000451220459',\n",
    "             'https://podcasts.apple.com/us/podcast/the-consequences-of-racism/id523121474?i=1000406499359']"
   ]
  },
  {
   "cell_type": "code",
   "execution_count": 7,
   "metadata": {},
   "outputs": [],
   "source": [
    "'''Obtain the article titles'''\n",
    "def generateArticleInput(url,title_only=True):   \n",
    "    '''This fetches the article information from the URL using the newspaper package.\n",
    "    title_only flag controls whether embeddings are evaluated on entire article body, or just title.'''\n",
    "    article = Article(url)\n",
    "    article.download()\n",
    "    article.parse()\n",
    "    \n",
    "    if(title_only):\n",
    "        return article.title\n",
    "    else:\n",
    "        return article.text\n",
    "for i in range(len(article_urls)):\n",
    "    article_titles.append(generateArticleInput(article_urls[i]))"
   ]
  },
  {
   "cell_type": "code",
   "execution_count": null,
   "metadata": {},
   "outputs": [],
   "source": [
    "with open('validation_set.pkl','rb') as fid:\n",
    "         pickle.dump([descriptions, article_titles],fid) "
   ]
  },
  {
   "cell_type": "markdown",
   "metadata": {},
   "source": [
    "## Word2Vec"
   ]
  },
  {
   "cell_type": "code",
   "execution_count": 18,
   "metadata": {},
   "outputs": [],
   "source": [
    "'''Load embeddings of the episodes dataset'''\n",
    "floc = '/Users/mohsenghassemi/Desktop/Job_Material/Insight/Project/summaries6/'\n",
    "with open(floc+'vectorized_summaries0_1580414112.pkl','rb') as fid:\n",
    "         vecs_df=pickle.load(fid) "
   ]
  },
  {
   "cell_type": "code",
   "execution_count": 19,
   "metadata": {},
   "outputs": [],
   "source": [
    "## Put all of the embeddings of the episodes in one list\n",
    "ep_vecs=[vec[2] for vec in vecs_df]\n",
    "ep_vecs_first=[item[0] for item in ep_vecs]\n",
    "all_ep_vecs=[item for sublist in ep_vecs for item in sublist]\n",
    "\n",
    "## There are a few null values in the embeddings (perhaps after cleaning the description/titles became empty)\n",
    "all_ep_vecs_clean=np.nan_to_num(np.array(all_ep_vecs))"
   ]
  },
  {
   "cell_type": "code",
   "execution_count": null,
   "metadata": {},
   "outputs": [],
   "source": [
    "similarity_pairs_w2v_all=[]\n",
    "rank_all=[]\n",
    "similarity_compare_to_all=[]\n",
    "\n",
    "for j in range(len(descriptions)):\n",
    "    start=time.time()\n",
    "    episode=\" \".join([item for item in word_tokenize(clean(descriptions[j])) if item not in stopwords.words('english')])\n",
    "    article=\" \".join([item for item in word_tokenize(clean(article_titles[j])) if item not in stopwords.words('english')])\n",
    "    vec_ep=ep2vec(word_tokenize(episode)).reshape(1,300)\n",
    "    vec_ar=ep2vec(word_tokenize(article)).reshape(1,300)\n",
    "    similarity=sklearn.metrics.pairwise.cosine_similarity(vec_ar,vec_ep)\n",
    "    similarity_pairs_w2v_all.append(similarity)\n",
    "    word2vecSimilarity=np.array([sklearn.metrics.pairwise.cosine_similarity\n",
    "                  (vec_ar.reshape(1,300),i.reshape(1,300)) for i in all_ep_vecs_clean])\n",
    "    similarity_compare_to_all.append([np.mean(word2vecSimilarity),np.std(word2vecSimilarity),np.max(word2vecSimilarity)])\n",
    "    rank_all.append(sum(word2vecSimilarity>similarity))\n",
    "    stop=time.time()\n",
    "    print(stop-start)"
   ]
  },
  {
   "cell_type": "code",
   "execution_count": 30,
   "metadata": {},
   "outputs": [],
   "source": [
    "with open('w2v_similarity_all','wb') as fid:\n",
    "         vecs_df=pickle.dump([rank_all,similarity_compare_to_all,similarity_pairs_w2v_all],fid) "
   ]
  },
  {
   "cell_type": "code",
   "execution_count": 67,
   "metadata": {},
   "outputs": [],
   "source": [
    "## Find means and standard deviations to ploit the bar plots\n",
    "\n",
    "mean_related_w2v=np.mean(similarity_pairs_w2v_all)\n",
    "stad_related_w2v=np.std(similarity_pairs_w2v_all)\n",
    "means=[item[0] for item in similarity_compare_to_all]\n",
    "stds_squared=[item[1]**2 for item in similarity_compare_to_all]\n",
    "mean_all_w2v=np.mean([means])\n",
    "std_all_w2v=np.sqrt(np.std(means)**2+np.mean(stds_squared))"
   ]
  },
  {
   "cell_type": "code",
   "execution_count": 69,
   "metadata": {},
   "outputs": [
    {
     "data": {
      "text/plain": [
       "Text(0.5, 1.0, 'Word2vec Similarities')"
      ]
     },
     "execution_count": 69,
     "metadata": {},
     "output_type": "execute_result"
    },
    {
     "data": {
      "image/png": "[encoded data removed]",
      "text/plain": [
       "<Figure size 432x288 with 1 Axes>"
      ]
     },
     "metadata": {
      "needs_background": "light"
     },
     "output_type": "display_data"
    }
   ],
   "source": [
    "plt.bar('Related Episode', mean_related_w2v, width = .5, capsize=7,yerr=stad_related_w2v, label='poacee')\n",
    "plt.bar('rest of the Dataset', mean_all_w2v, width = .5, capsize=7,yerr=std_all_w2v, label='poacee')\n",
    "plt.ylabel('Cosine Similarity')\n",
    "#plt.legend()\n",
    "plt.yticks(np.arange(0,1,0.1))\n",
    "plt.title('Word2vec Similarities')"
   ]
  },
  {
   "cell_type": "markdown",
   "metadata": {},
   "source": [
    "## GloVe"
   ]
  },
  {
   "cell_type": "code",
   "execution_count": 10,
   "metadata": {},
   "outputs": [],
   "source": [
    "'''Load embeddings of the episodes dataset'''\n",
    "floc = '/Users/mohsenghassemi/Desktop/Job_Material/Insight/Project/summaries6/'\n",
    "with open(floc+'glove_vectors_all_1582566723.pkl','rb') as fid:\n",
    "         gloves_df=pickle.load(fid) "
   ]
  },
  {
   "cell_type": "code",
   "execution_count": 13,
   "metadata": {},
   "outputs": [],
   "source": [
    "## Put all of the embeddings of the episodes in one list\n",
    "ep_gloves=[vec[2] for vec in gloves_df]\n",
    "all_ep_gloves=[item for sublist in ep_gloves for item in sublist]\n",
    "\n",
    "## There are a few null values in the embeddings (perhaps after cleaning the description/titles became empty)\n",
    "all_ep_vecs_clean=np.nan_to_num(np.array(all_ep_gloves))"
   ]
  },
  {
   "cell_type": "code",
   "execution_count": 14,
   "metadata": {},
   "outputs": [
    {
     "name": "stdout",
     "output_type": "stream",
     "text": [
      "344.86134672164917\n",
      "292.7602698802948\n",
      "252.35237669944763\n",
      "251.42431211471558\n",
      "305.1134989261627\n",
      "287.11501002311707\n",
      "300.5097641944885\n",
      "269.99775218963623\n",
      "340.53074407577515\n",
      "279.8332381248474\n",
      "287.86505126953125\n",
      "290.09799885749817\n",
      "278.1861798763275\n",
      "324.97962498664856\n",
      "293.91658186912537\n",
      "306.154972076416\n",
      "320.2692680358887\n",
      "331.23123931884766\n",
      "308.58899188041687\n",
      "330.76945066452026\n",
      "293.1470191478729\n",
      "316.9494891166687\n",
      "337.41488790512085\n"
     ]
    }
   ],
   "source": [
    "similarity_pairs_glove_all=[]\n",
    "rank_glove_all=[]\n",
    "similarity_compare_to_glove_all=[]\n",
    "\n",
    "for j in range(len(descriptions)):\n",
    "    start=time.time()\n",
    "    episode=\" \".join([item for item in word_tokenize(clean(descriptions[j])) if item not in stopwords.words('english')])\n",
    "    article=\" \".join([item for item in word_tokenize(clean(article_titles[j])) if item not in stopwords.words('english')])\n",
    "    vec_ep=ep2glove(word_tokenize(episode)).reshape(1,300)\n",
    "    vec_ar=ep2glove(word_tokenize(article)).reshape(1,300)\n",
    "    similarity=sklearn.metrics.pairwise.cosine_similarity(vec_ar,vec_ep)\n",
    "    similarity_pairs_glove_all.append(similarity)\n",
    "    word2vecSimilarity=np.array([sklearn.metrics.pairwise.cosine_similarity\n",
    "                  (vec_ar.reshape(1,300),i.reshape(1,300)) for i in all_ep_vecs_clean])\n",
    "    similarity_compare_to_glove_all.append([np.mean(word2vecSimilarity),np.std(word2vecSimilarity),np.max(word2vecSimilarity)])\n",
    "    #similarity_compare_to_glove_all.append(word2vecSimilarity)\n",
    "\n",
    "    rank_glove_all.append(sum(word2vecSimilarity>similarity))\n",
    "    stop=time.time()\n",
    "    print(stop-start)"
   ]
  },
  {
   "cell_type": "code",
   "execution_count": 15,
   "metadata": {},
   "outputs": [],
   "source": [
    "with open('glove_similarity_all','wb') as fid:\n",
    "         vecs_df=pickle.dump([rank_glove_all,similarity_compare_to_glove_all,similarity_pairs_glove_all],fid) "
   ]
  },
  {
   "cell_type": "code",
   "execution_count": 62,
   "metadata": {},
   "outputs": [],
   "source": [
    "## Find means and standard deviations to ploit the bar plots\n",
    "mean_related_glove=np.mean(similarity_pairs_glove_all)\n",
    "stad_related_glove=np.std(similarity_pairs_glove_all)\n",
    "means=[item[0] for item in similarity_compare_to_glove_all]\n",
    "stds_squared=[item[1]**2 for item in similarity_compare_to_glove_all]\n",
    "mean_all_glove=np.mean([means])\n",
    "std_all_glove=np.sqrt(np.std(means)**2+np.mean(stds_squared))"
   ]
  },
  {
   "cell_type": "code",
   "execution_count": 65,
   "metadata": {},
   "outputs": [
    {
     "data": {
      "text/plain": [
       "Text(0.5, 1.0, 'GloVe Similarities')"
      ]
     },
     "execution_count": 65,
     "metadata": {},
     "output_type": "execute_result"
    },
    {
     "data": {
      "image/png": "[encoded data removed]",
      "text/plain": [
       "<Figure size 432x288 with 1 Axes>"
      ]
     },
     "metadata": {
      "needs_background": "light"
     },
     "output_type": "display_data"
    }
   ],
   "source": [
    "plt.bar('Related Episode', mean_related_glove, width = .5, capsize=7,yerr=stad_related_glove, label='poacee')\n",
    "plt.bar('rest of the Dataset', mean_all_glove, width = .5, capsize=7,yerr=std_all_glove, label='poacee')\n",
    "plt.ylabel('Cosine Similarity')\n",
    "#plt.legend()\n",
    "plt.yticks(np.arange(0,1,0.1))\n",
    "plt.title('GloVe Similarities')"
   ]
  },
  {
   "cell_type": "markdown",
   "metadata": {},
   "source": [
    "## BERT"
   ]
  },
  {
   "cell_type": "code",
   "execution_count": 83,
   "metadata": {},
   "outputs": [],
   "source": [
    "'''Loading the episodes dataset'''\n",
    "\n",
    "with open('processed_BERT_sentences_vecs_firstEps_frist4sentence','rb') as fid:\n",
    "         a=pickle.load(fid)"
   ]
  },
  {
   "cell_type": "code",
   "execution_count": 85,
   "metadata": {},
   "outputs": [],
   "source": [
    "'''Obtain similarity scores'''\n",
    "\n",
    "similarity_pairs_BERT=[]\n",
    "rank_BERT=[]\n",
    "similarity_compare_to_firsts_BERT=[]\n",
    "\n",
    "for j in range(len(descriptions)):\n",
    "\n",
    "    ep_BERT=\" \".join([item for item in word_tokenize(clean_BERT(descriptions[j])) if item not in stopwords.words('english')])\n",
    "    ep_BERT_4='. '.join(ep_BERT.split('. ')[0:4])\n",
    "    article_bert=\" \".join([item for item in word_tokenize(clean_BERT(article_titles[j])) if item not in stopwords.words('english')])\n",
    "    vec_ep_bert=model_BERT.encode([ep_BERT_4])[0].reshape(1,768)\n",
    "    vec_ar_bert=model_BERT.encode([article_bert])[0].reshape(1,768)\n",
    "    similarity=sklearn.metrics.pairwise.cosine_similarity(vec_ep_bert,vec_ar_bert)\n",
    "    similarity_pairs_BERT.append(similarity)\n",
    "    bertSimilarity=np.array([sklearn.metrics.pairwise.cosine_similarity\n",
    "                  (vec_ar_bert, i[0].reshape(1,768)) for i in a['BERT_vecs']])\n",
    "    similarity_compare_to_firsts_BERT.append([np.mean(bertSimilarity),np.std(bertSimilarity),np.max(bertSimilarity)])\n",
    "    rank_BERT.append(sum(bertSimilarity>similarity))"
   ]
  },
  {
   "cell_type": "code",
   "execution_count": 86,
   "metadata": {},
   "outputs": [],
   "source": [
    "with open('BERT_similarity_firsts','wb') as fid:\n",
    "         pickle.dump([rank_BERT,similarity_compare_to_firsts_BERT,similarity_pairs_BERT],fid) "
   ]
  },
  {
   "cell_type": "code",
   "execution_count": 88,
   "metadata": {},
   "outputs": [],
   "source": [
    "## Find means and standard deviations to ploit the bar plots\n",
    "mean_related_bert=np.mean(similarity_pairs_BERT)\n",
    "stad_related_bert=np.std(similarity_pairs_BERT)\n",
    "means=[item[0] for item in similarity_compare_to_firsts_BERT]\n",
    "stds_squared=[item[1]**2 for item in similarity_compare_to_firsts_BERT]\n",
    "mean_all_bert=np.mean([means])\n",
    "std_all_bert=np.sqrt(np.std(means)**2+np.mean(stds_squared))"
   ]
  },
  {
   "cell_type": "code",
   "execution_count": 89,
   "metadata": {},
   "outputs": [
    {
     "data": {
      "text/plain": [
       "Text(0.5, 1.0, 'BERT Similarities')"
      ]
     },
     "execution_count": 89,
     "metadata": {},
     "output_type": "execute_result"
    },
    {
     "data": {
      "image/png": "[encoded data removed]",
      "text/plain": [
       "<Figure size 432x288 with 1 Axes>"
      ]
     },
     "metadata": {
      "needs_background": "light"
     },
     "output_type": "display_data"
    }
   ],
   "source": [
    "plt.bar('Related Episode', mean_related_bert, width = .5, capsize=7,yerr=stad_related_bert, label='poacee')\n",
    "plt.bar('rest of the Dataset', mean_all_bert, width = .5, capsize=7,yerr=std_all_bert, label='poacee')\n",
    "plt.ylabel('Cosine Similarity')\n",
    "#plt.legend()\n",
    "plt.yticks(np.arange(0,1,0.1))\n",
    "plt.title('BERT Similarities')"
   ]
  }
 ],
 "metadata": {
  "kernelspec": {
   "display_name": "Python 3",
   "language": "python",
   "name": "python3"
  },
  "language_info": {
   "codemirror_mode": {
    "name": "ipython",
    "version": 3
   },
   "file_extension": ".py",
   "mimetype": "text/x-python",
   "name": "python",
   "nbconvert_exporter": "python",
   "pygments_lexer": "ipython3",
   "version": "3.7.4"
  }
 },
 "nbformat": 4,
 "nbformat_minor": 2
}
