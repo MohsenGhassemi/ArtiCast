{
 "cells": [
  {
   "cell_type": "code",
   "execution_count": null,
   "metadata": {},
   "outputs": [],
   "source": [
    "#Importing required modules\n",
    "import numpy as np\n",
    "import pandas as pd\n",
    "import pickle\n",
    "import time\n",
    "import scipy\n",
    "import sklearn\n",
    "\n",
    "import feedparser as fp\n",
    "import html\n",
    "from nltk.tokenize import TreebankWordTokenizer,WhitespaceTokenizer,word_tokenize\n",
    "from gensim.summarization import keywords\n",
    "import string\n",
    "from nltk.stem import WordNetLemmatizer\n",
    "from nltk.corpus import stopwords\n",
    "import re\n",
    "from langdetect import detect\n",
    "from website.code_bin import Cleaner\n",
    "from bs4 import BeautifulSoup\n",
    "from nltk.corpus import stopwords\n",
    "from multiprocessing import Pool\n",
    "import string\n",
    "from newspaper import Article\n",
    "\n",
    "## Models\n",
    "from gensim.models.doc2vec import Doc2Vec, TaggedDocument\n",
    "from sklearn.model_selection import train_test_split\n",
    "from sentence_transformers import SentenceTransformer\n",
    "\n",
    "\n",
    "# Plotting\n",
    "import matplotlib.pyplot as plt"
   ]
  },
  {
   "cell_type": "markdown",
   "metadata": {},
   "source": [
    "# Word2Vec"
   ]
  },
  {
   "cell_type": "code",
   "execution_count": null,
   "metadata": {},
   "outputs": [],
   "source": [
    "'''load pretrained word2vec (on Google news dataset)'''\n",
    "import gensim\n",
    "import numpy as np\n",
    "\n",
    "floc = '/Users/mohsenghassemi/Desktop/Job_Material/Insight/Project/data/'\n",
    "fname = 'GoogleNews-vectors-negative300.bin'\n",
    "\n",
    "word2vec = gensim.models.KeyedVectors.load_word2vec_format(floc+fname, binary=True)"
   ]
  },
  {
   "cell_type": "code",
   "execution_count": null,
   "metadata": {},
   "outputs": [],
   "source": [
    "'''define functions for parsing tokenized episode summaries'''\n",
    "def ep2vec(episode):\n",
    "    n = 0\n",
    "    a = []\n",
    "    for w in episode:\n",
    "        try:\n",
    "            v = word2vec[w]\n",
    "            if((np.isnan(v).any() + np.isinf(v).any()) == 0):\n",
    "                a.append(v)\n",
    "                n += 1\n",
    "        except KeyError as e:\n",
    "            pass\n",
    "    if(n==0):\n",
    "        return np.full([300,], np.nan)\n",
    "    avg = np.mean(np.array(a),axis=0)\n",
    "    return avg\n",
    "    \n",
    "def pod2vec(episodes):\n",
    "    return np.nanmean(np.asarray([ep2vec(e) for e in episodes]),axis=0)"
   ]
  },
  {
   "cell_type": "code",
   "execution_count": null,
   "metadata": {},
   "outputs": [],
   "source": [
    "#load in preprocessed text summaries and word2vec them\n",
    "\n",
    "\n",
    "floc = '/Users/mohsenghassemi/Desktop/Job_Material/Insight/Project/summaries6/'\n",
    "fctr = 0\n",
    "associator = '1580538675'\n",
    "nfile = 7\n",
    "vectorized_eps = []\n",
    "for i in range(0,nfile):\n",
    "    start_time = time.time()\n",
    "    fname = 'preprocessed_summaries' + str(fctr) +'_'+ associator + '.pkl'\n",
    "    with open(floc+fname,'rb') as fid:\n",
    "         pps = pickle.load(fid)\n",
    "    for p in pps:\n",
    "        vectorized_eps.append((p[0],pod2vec(p[1]),[ep2vec(e) for e in p[1]]))\n",
    "    fctr += 1\n",
    "    stop_time = time.time()\n",
    "    duration = stop_time - start_time\n",
    "    print('Done with file ' + str(i) + ' (duration=' + str(duration) + ')')\n",
    "print('done!')\n",
    "\n",
    "\n",
    "#save vector representations\n",
    "\n",
    "floc = '/Users/mohsenghassemi/Desktop/Job_Material/Insight/Project/summaries9/'\n",
    "\n",
    "associator = str(int(np.floor(time.time())))\n",
    "fname = 'vectorized_summaries'+'_'+ associator + '.pkl'\n",
    "with open(floc+fname,'wb') as fid:\n",
    "    pickle.dump(vectorized_eps,fid)\n",
    "\n",
    "print('done!')"
   ]
  },
  {
   "cell_type": "markdown",
   "metadata": {},
   "source": [
    "# GloVe"
   ]
  },
  {
   "cell_type": "code",
   "execution_count": null,
   "metadata": {},
   "outputs": [],
   "source": [
    "'''load pretrained glove vector (on Wikipedia)'''\n",
    "import gensim\n",
    "import numpy as np\n",
    "\n",
    "floc = '/Users/mohsenghassemi/Desktop/Job_Material/Insight/Project/data/'\n",
    "fname='glove.6B.300d.txt'\n",
    "\n",
    "Glove = {}\n",
    "with open(floc+fname, 'r', encoding='utf8',errors = 'ignore') as f:\n",
    "    for line in f:\n",
    "        values = line.split()\n",
    "        word = values[0]\n",
    "        vector = np.asarray(values[1:], dtype=\"float32\", )\n",
    "        Glove[word] = vector\n",
    "floc = '/Users/mohsenghassemi/Desktop/Job_Material/Insight/Project/Data/'\n",
    "fname='glove_vecs_6B.pkl'\n",
    "with open(floc+fname,'wb') as fid:\n",
    "         pickle.dump(Glove,fid)  \n",
    " "
   ]
  },
  {
   "cell_type": "code",
   "execution_count": null,
   "metadata": {},
   "outputs": [],
   "source": [
    "'''Save the pre-trained Glove vectors into a pickle file'''\n",
    "\n",
    "floc = '/Users/mohsenghassemi/Desktop/Job_Material/Insight/Project/data/'\n",
    "fname='glove_vecs_6B.pkl'\n",
    "with open(floc+fname,'rb') as fid:\n",
    "    Glove=pickle.load(fid)  "
   ]
  },
  {
   "cell_type": "code",
   "execution_count": null,
   "metadata": {},
   "outputs": [],
   "source": [
    "'''define functions for finding GloVe Vectors of episode summaries'''\n",
    "def ep2glove(episode):\n",
    "    n = 0\n",
    "    a = []\n",
    "    for w in episode:\n",
    "        try:\n",
    "            v = Glove[w]\n",
    "            if((np.isnan(v).any() + np.isinf(v).any()) == 0):\n",
    "                a.append(v)\n",
    "                n += 1\n",
    "        except KeyError as e:\n",
    "            pass\n",
    "    if(n==0):\n",
    "        return np.full([300,], np.nan)\n",
    "    avg = np.mean(np.array(a),axis=0)\n",
    "    return avg\n",
    "    \n",
    "def pod2glove(episodes):\n",
    "    return np.nanmean(np.asarray([ep2vec(e) for e in episodes]),axis=0)"
   ]
  },
  {
   "cell_type": "code",
   "execution_count": null,
   "metadata": {},
   "outputs": [],
   "source": [
    "#load in preprocessed text summaries and glove them\n",
    "\n",
    "\n",
    "floc = '/Users/mohsenghassemi/Desktop/Job_Material/Insight/Project/summaries6/'\n",
    "fctr = 0\n",
    "associator = '1580326866'\n",
    "nfile = 4\n",
    "vectorized_eps = []\n",
    "for i in range(1,nfile):\n",
    "    start_time = time.time()\n",
    "    fname = 'preprocessed_summaries' + str(fctr) +'_'+ associator + '.pkl'\n",
    "    with open(floc+fname,'rb') as fid:\n",
    "         pps = pickle.load(fid)\n",
    "    for p in pps:\n",
    "        vectorized_eps.append((p[0],pod2glove(p[1]),[ep2glove(e) for e in p[1]]))\n",
    "    fctr += 1\n",
    "    stop_time = time.time()\n",
    "    duration = stop_time - start_time\n",
    "    print('Done with file ' + str(i) + ' (duration=' + str(duration) + ')')\n",
    "print('done!')\n",
    "\n",
    "\n",
    "#save vector representations\n",
    "\n",
    "associator = str(int(np.floor(time.time())))\n",
    "fname = 'glove_vectors_all'+'_'+ associator + '.pkl'\n",
    "with open(floc+fname,'wb') as fid:\n",
    "    pickle.dump(vectorized_eps,fid)\n",
    "\n",
    "print('done!')"
   ]
  },
  {
   "cell_type": "markdown",
   "metadata": {},
   "source": [
    "# Sentence BERT"
   ]
  },
  {
   "cell_type": "code",
   "execution_count": null,
   "metadata": {},
   "outputs": [],
   "source": [
    "'''Load the pre-trained model on Wikipedia 2014 and Gigaword 5'''\n",
    "model_BERT = SentenceTransformer('bert-base-nli-mean-tokens')"
   ]
  },
  {
   "cell_type": "code",
   "execution_count": null,
   "metadata": {},
   "outputs": [],
   "source": [
    "'''Load preprocessed text data'''\n",
    "with open('processed_BERT_first4sentences','rb') as fid:\n",
    "         sentence_df=pickle.load(fid)"
   ]
  },
  {
   "cell_type": "code",
   "execution_count": null,
   "metadata": {},
   "outputs": [],
   "source": [
    "sentences_df['BERT_vecs']=sentences_df['episodes_descriptions_sentences'].apply(lambda x: model_BERT.encode(x))\n",
    "with open('processed_BERT_sentences_vecs','wb') as fid:\n",
    "         pickle.dump(sentences_df,fid)"
   ]
  },
  {
   "cell_type": "code",
   "execution_count": null,
   "metadata": {},
   "outputs": [],
   "source": []
  }
 ],
 "metadata": {
  "kernelspec": {
   "display_name": "Python 3",
   "language": "python",
   "name": "python3"
  },
  "language_info": {
   "codemirror_mode": {
    "name": "ipython",
    "version": 3
   },
   "file_extension": ".py",
   "mimetype": "text/x-python",
   "name": "python",
   "nbconvert_exporter": "python",
   "pygments_lexer": "ipython3",
   "version": "3.7.4"
  }
 },
 "nbformat": 4,
 "nbformat_minor": 2
}
